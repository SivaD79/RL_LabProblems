{
 "cells": [
  {
   "cell_type": "code",
   "execution_count": null,
   "id": "d895ae76-51b8-4846-bdb1-a87bd3c85571",
   "metadata": {},
   "outputs": [
    {
     "name": "stdout",
     "output_type": "stream",
     "text": [
      "  |   |  \n",
      "--+---+--\n",
      "  |   |  \n",
      "--+---+--\n",
      "  |   |  \n",
      "Player X's turn\n"
     ]
    },
    {
     "name": "stdin",
     "output_type": "stream",
     "text": [
      "Enter row and column (0, 1, or 2):  0 0\n"
     ]
    },
    {
     "name": "stdout",
     "output_type": "stream",
     "text": [
      "X |   |  \n",
      "--+---+--\n",
      "  |   |  \n",
      "--+---+--\n",
      "  |   |  \n",
      "Player O's turn\n"
     ]
    },
    {
     "name": "stdin",
     "output_type": "stream",
     "text": [
      "Enter row and column (0, 1, or 2):  1 0\n"
     ]
    },
    {
     "name": "stdout",
     "output_type": "stream",
     "text": [
      "X |   |  \n",
      "--+---+--\n",
      "O |   |  \n",
      "--+---+--\n",
      "  |   |  \n",
      "Player X's turn\n"
     ]
    }
   ],
   "source": [
    "# Function to print the Tic-Tac-Toe board\n",
    "def print_board(board):\n",
    "    for i in range(3):\n",
    "        print(\" | \".join(board[i]))\n",
    "        if i < 2:\n",
    "            print(\"--+---+--\")\n",
    "    \n",
    "# Function to check if a player has won\n",
    "def check_winner(board, player):\n",
    "    # Check rows, columns, and diagonals\n",
    "    for i in range(3):\n",
    "        if all([cell == player for cell in board[i]]):  # Check row\n",
    "            return True\n",
    "        if all([board[j][i] == player for j in range(3)]):  # Check column\n",
    "            return True\n",
    "    \n",
    "    # Check diagonals\n",
    "    if board[0][0] == player and board[1][1] == player and board[2][2] == player:\n",
    "        return True\n",
    "    if board[0][2] == player and board[1][1] == player and board[2][0] == player:\n",
    "        return True\n",
    "    \n",
    "    return False\n",
    "\n",
    "# Function to check if the board is full\n",
    "def is_board_full(board):\n",
    "    return all(cell != ' ' for row in board for cell in row)\n",
    "\n",
    "# Function to play Tic-Tac-Toe\n",
    "def play_game():\n",
    "    # Initialize empty board\n",
    "    board = [[' ' for _ in range(3)] for _ in range(3)]\n",
    "    \n",
    "    # Player symbols\n",
    "    players = ['X', 'O']\n",
    "    \n",
    "    # Start the game\n",
    "    current_player = 0  # Player X starts\n",
    "    while True:\n",
    "        print_board(board)\n",
    "        print(f\"Player {players[current_player]}'s turn\")\n",
    "\n",
    "        # Get player input (row, col)\n",
    "        row, col = map(int, input(\"Enter row and column (0, 1, or 2): \").split())\n",
    "\n",
    "        # Check if the position is valid\n",
    "        if board[row][col] == ' ':\n",
    "            board[row][col] = players[current_player]\n",
    "        else:\n",
    "            print(\"This position is already taken, try again.\")\n",
    "            continue\n",
    "        \n",
    "        # Check if the current player has won\n",
    "        if check_winner(board, players[current_player]):\n",
    "            print_board(board)\n",
    "            print(f\"Player {players[current_player]} wins!\")\n",
    "            break\n",
    "        \n",
    "        # Check if the board is full (a draw)\n",
    "        if is_board_full(board):\n",
    "            print_board(board)\n",
    "            print(\"It's a draw!\")\n",
    "            break\n",
    "        \n",
    "        # Switch players\n",
    "        current_player = 1 - current_player\n",
    "\n",
    "# Run the game\n",
    "play_game()\n"
   ]
  },
  {
   "cell_type": "code",
   "execution_count": null,
   "id": "4627100e-8c01-4d9c-ae94-18c6b95adfeb",
   "metadata": {},
   "outputs": [],
   "source": []
  }
 ],
 "metadata": {
  "kernelspec": {
   "display_name": "Python 3 (ipykernel)",
   "language": "python",
   "name": "python3"
  },
  "language_info": {
   "codemirror_mode": {
    "name": "ipython",
    "version": 3
   },
   "file_extension": ".py",
   "mimetype": "text/x-python",
   "name": "python",
   "nbconvert_exporter": "python",
   "pygments_lexer": "ipython3",
   "version": "3.11.7"
  }
 },
 "nbformat": 4,
 "nbformat_minor": 5
}
